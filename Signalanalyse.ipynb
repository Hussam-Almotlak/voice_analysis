{
 "cells": [
  {
   "cell_type": "code",
   "execution_count": 1,
   "metadata": {
    "colab": {},
    "colab_type": "code",
    "id": "UI591L8ee6rG"
   },
   "outputs": [],
   "source": [
    "import os\n",
    "from scipy.io import wavfile\n",
    "from tqdm import tqdm\n",
    "import pandas as pd\n",
    "from python_speech_features import mfcc, logfbank\n",
    "import librosa\n",
    "import pydub \n",
    "import numpy as np\n",
    "\n",
    "import matplotlib.pyplot as plt\n",
    "\n",
    "from pathlib import Path"
   ]
  },
  {
   "cell_type": "code",
   "execution_count": 2,
   "metadata": {
    "colab": {},
    "colab_type": "code",
    "id": "-I8USFhYe6rM"
   },
   "outputs": [],
   "source": [
    "def read(f, normalized=False):\n",
    "    \"\"\"MP3 to numpy array\"\"\"\n",
    "    a = pydub.AudioSegment.from_mp3(f)\n",
    "    y = np.array(a.get_array_of_samples())\n",
    "    if a.channels == 2:\n",
    "        y = y.reshape((-1, 2))\n",
    "    if normalized:\n",
    "        return a.frame_rate, np.float32(y) / 2**15\n",
    "    else:\n",
    "        return a.frame_rate, y"
   ]
  },
  {
   "cell_type": "code",
   "execution_count": 3,
   "metadata": {
    "colab": {},
    "colab_type": "code",
    "id": "oaZtTR9Ke6rP"
   },
   "outputs": [],
   "source": [
    "def write(f, sr, x, normalized=False):\n",
    "    \"\"\"numpy array to MP3\"\"\"\n",
    "    channels = 2 if (x.ndim == 2 and x.shape[1] == 2) else 1\n",
    "    if normalized:  # normalized array - each item should be a float in [-1, 1)\n",
    "        y = np.int16(x * 2 ** 15)\n",
    "    else:\n",
    "        y = np.int16(x)\n",
    "    song = pydub.AudioSegment(y.tobytes(), frame_rate=sr, sample_width=2, channels=channels)\n",
    "    song.export(f, format=\"mp3\", bitrate=\"320k\")"
   ]
  },
  {
   "cell_type": "code",
   "execution_count": 4,
   "metadata": {
    "colab": {},
    "colab_type": "code",
    "id": "VUZgtnUEe6rT"
   },
   "outputs": [],
   "source": [
    "def calc_fft(sig, rate):\n",
    "    n = len(sig)\n",
    "    freq = np.fft.rfftfreq(n, d=1/rate)\n",
    "    mag = abs(np.fft.rfft(sig)/n)\n",
    "    \n",
    "    return mag, freq"
   ]
  },
  {
   "cell_type": "code",
   "execution_count": 5,
   "metadata": {
    "colab": {},
    "colab_type": "code",
    "id": "ksV6ixf-e6rW"
   },
   "outputs": [],
   "source": [
    "def plot_fft(fft):\n",
    "    fig, axes = plt.subplots(nrows=2, ncols=5, sharex=False,\n",
    "                             sharey=True, figsize=(20,5))\n",
    "    fig.suptitle('Fourier Transforms', size=16)\n",
    "    i = 0\n",
    "    for x in range(2):\n",
    "        for y in range(5):\n",
    "            data = list(fft.values())[i]\n",
    "            Y, freq = data[0], data[1]\n",
    "            axes[x,y].set_title(list(fft.keys())[i])\n",
    "            axes[x,y].plot(freq, Y)\n",
    "            axes[x,y].get_xaxis().set_visible(False)\n",
    "            axes[x,y].get_yaxis().set_visible(False)\n",
    "            i += 1"
   ]
  },
  {
   "cell_type": "code",
   "execution_count": 6,
   "metadata": {
    "colab": {},
    "colab_type": "code",
    "id": "moUKwsLQe6rZ",
    "outputId": "a9b68285-8ab5-4974-baa6-2c0751c996ba"
   },
   "outputs": [
    {
     "name": "stdout",
     "output_type": "stream",
     "text": [
      "44100\n",
      "[[ 0  0]\n",
      " [ 0  0]\n",
      " [ 0  0]\n",
      " ...\n",
      " [ 3  2]\n",
      " [ 1  1]\n",
      " [-3 -1]]\n"
     ]
    }
   ],
   "source": [
    "#data_folder = Path(\"Gelabelt\")\n",
    "#file = data_folder / \"f1.mp3\"\n",
    "#os.path.abspath(\"Gelabelt\")\n",
    "\n",
    "#data_folder = os.path.join(\"Gelabelt\", \"f2.mp3\")\n",
    "#os.path.abspath(data_folder)\n",
    "sr, signal = read('f1.mp3')\n",
    "print(sr)\n",
    "print(signal)"
   ]
  },
  {
   "cell_type": "code",
   "execution_count": 7,
   "metadata": {
    "colab": {},
    "colab_type": "code",
    "id": "5oKcdTXJe6rc",
    "outputId": "20b3d3e7-7dae-4324-9a9c-710dd755a2e9"
   },
   "outputs": [
    {
     "name": "stdout",
     "output_type": "stream",
     "text": [
      "10.840816326530613\n"
     ]
    }
   ],
   "source": [
    "sec = signal.shape[0]/sr\n",
    "print (sec)\n"
   ]
  },
  {
   "cell_type": "code",
   "execution_count": 8,
   "metadata": {
    "colab": {},
    "colab_type": "code",
    "id": "f1aqfJ0xe6rf",
    "outputId": "e89a26e5-5faf-4dca-e309-7f227e3e639e"
   },
   "outputs": [
    {
     "name": "stdout",
     "output_type": "stream",
     "text": [
      "44100\n",
      "[ 0.0000000e+00  0.0000000e+00  0.0000000e+00 ...  7.6293945e-05\n",
      "  3.0517578e-05 -6.1035156e-05]\n"
     ]
    }
   ],
   "source": [
    "signal2, sr2 = librosa.load('f1.mp3', sr=44100)\n",
    "print(sr2)\n",
    "print(signal2)"
   ]
  },
  {
   "cell_type": "code",
   "execution_count": 9,
   "metadata": {
    "colab": {},
    "colab_type": "code",
    "id": "1hLYFQ3Re6ri"
   },
   "outputs": [],
   "source": [
    "mag, freq = calc_fft(signal2, sr2)\n",
    "#print(mag)"
   ]
  },
  {
   "cell_type": "code",
   "execution_count": 10,
   "metadata": {
    "colab": {},
    "colab_type": "code",
    "id": "w4edt6gWe6rl",
    "outputId": "2b9c41d8-f4c6-4fa9-d752-62921c9bcad6"
   },
   "outputs": [
    {
     "data": {
      "image/png": "[encoded data removed]",
      "text/plain": [
       "<Figure size 432x288 with 1 Axes>"
      ]
     },
     "metadata": {
      "needs_background": "light"
     },
     "output_type": "display_data"
    }
   ],
   "source": [
    "plt.plot(freq, mag)\n",
    "plt.show()"
   ]
  },
  {
   "cell_type": "code",
   "execution_count": 0,
   "metadata": {
    "colab": {},
    "colab_type": "code",
    "id": "9ZDo_21Se6rn"
   },
   "outputs": [],
   "source": []
  }
 ],
 "metadata": {
  "colab": {
   "name": "Untitled.ipynb",
   "provenance": []
  },
  "kernelspec": {
   "display_name": "Python 3",
   "language": "python",
   "name": "python3"
  },
  "language_info": {
   "codemirror_mode": {
    "name": "ipython",
    "version": 3
   },
   "file_extension": ".py",
   "mimetype": "text/x-python",
   "name": "python",
   "nbconvert_exporter": "python",
   "pygments_lexer": "ipython3",
   "version": "3.7.4"
  }
 },
 "nbformat": 4,
 "nbformat_minor": 1
}
