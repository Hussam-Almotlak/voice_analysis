{
 "cells": [
  {
   "cell_type": "code",
   "execution_count": 12,
   "metadata": {},
   "outputs": [],
   "source": [
    "import csv\n",
    "import pandas as pd"
   ]
  },
  {
   "cell_type": "code",
   "execution_count": 8,
   "metadata": {},
   "outputs": [],
   "source": [
    "csvData = [['Person', 'Age'], ['Peter', '22'], ['Jasmine', '21'], ['Sam', '24']]\n",
    "with open('person.csv', 'w') as csvFile:\n",
    "    writer = csv.writer(csvFile)\n",
    "    writer.writerows(csvData)\n",
    "csvFile.close()    "
   ]
  },
  {
   "cell_type": "code",
   "execution_count": 10,
   "metadata": {},
   "outputs": [
    {
     "name": "stdout",
     "output_type": "stream",
     "text": [
      "[['Person', 'Age'], [], ['Peter', '22'], [], ['Jasmine', '21'], [], ['Sam', '24'], []]\n"
     ]
    }
   ],
   "source": [
    "with open('person.csv', 'r') as csvFile:\n",
    "    reader = csv.reader(csvFile)\n",
    "    lines = list(reader)\n",
    "    \n",
    "print(lines)\n",
    "csvFile.close()"
   ]
  },
  {
   "cell_type": "code",
   "execution_count": 23,
   "metadata": {},
   "outputs": [
    {
     "name": "stdout",
     "output_type": "stream",
     "text": [
      "22\n",
      "21\n",
      "24\n",
      ":)\n",
      ":)\n",
      ":)\n"
     ]
    }
   ],
   "source": [
    "df = pd.read_csv('person.csv')\n",
    "df.set_index('Age', inplace=True)\n",
    "\n",
    "for mountain in df.index:\n",
    "    print(mountain)\n",
    "    df.at[mountain, 'feature3'] = ':)'\n",
    "    \n",
    "for mountain in df.index:\n",
    "    print(df.at[mountain, 'feature3'])"
   ]
  },
  {
   "cell_type": "code",
   "execution_count": null,
   "metadata": {},
   "outputs": [],
   "source": []
  }
 ],
 "metadata": {
  "kernelspec": {
   "display_name": "Python 3",
   "language": "python",
   "name": "python3"
  },
  "language_info": {
   "codemirror_mode": {
    "name": "ipython",
    "version": 3
   },
   "file_extension": ".py",
   "mimetype": "text/x-python",
   "name": "python",
   "nbconvert_exporter": "python",
   "pygments_lexer": "ipython3",
   "version": "3.7.4"
  }
 },
 "nbformat": 4,
 "nbformat_minor": 2
}
